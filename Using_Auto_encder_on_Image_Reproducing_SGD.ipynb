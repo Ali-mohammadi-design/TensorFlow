{
 "cells": [
  {
   "cell_type": "markdown",
   "id": "8b1855e0",
   "metadata": {},
   "source": [
    "Can we make change on the images, like denoise them or make them more vague, by the Autoencoders?"
   ]
  },
  {
   "cell_type": "markdown",
   "id": "5d201819",
   "metadata": {},
   "source": [
    "We want to teach the machine that save important features of the data and remove the remained!\n",
    "\n",
    "When the input is large and it get smaller and smaller for every layer we would reduce the dimentions and keep the most important features of the data\n",
    "\n",
    "In this code we want just get an image, reduce it dimentions with the encoder and reproduce it again with the decoder!"
   ]
  },
  {
   "cell_type": "code",
   "execution_count": 1,
   "id": "9c60ce21",
   "metadata": {},
   "outputs": [],
   "source": [
    "import pandas as pd\n",
    "import numpy as np\n",
    "import matplotlib.pyplot as plt\n"
   ]
  },
  {
   "cell_type": "code",
   "execution_count": 2,
   "id": "0b06a2c4",
   "metadata": {},
   "outputs": [
    {
     "name": "stderr",
     "output_type": "stream",
     "text": [
      "C:\\Users\\moham\\anaconda3\\lib\\site-packages\\scipy\\__init__.py:155: UserWarning: A NumPy version >=1.18.5 and <1.25.0 is required for this version of SciPy (detected version 1.26.4\n",
      "  warnings.warn(f\"A NumPy version >={np_minversion} and <{np_maxversion}\"\n"
     ]
    }
   ],
   "source": [
    "from tensorflow.keras.datasets import mnist"
   ]
  },
  {
   "cell_type": "code",
   "execution_count": 3,
   "id": "49311d50",
   "metadata": {},
   "outputs": [],
   "source": [
    "(X_train, y_train), (X_test, y_test)=mnist.load_data()"
   ]
  },
  {
   "cell_type": "code",
   "execution_count": 7,
   "id": "b09aeeb0",
   "metadata": {},
   "outputs": [
    {
     "data": {
      "text/plain": [
       "<matplotlib.image.AxesImage at 0x272050a61c0>"
      ]
     },
     "execution_count": 7,
     "metadata": {},
     "output_type": "execute_result"
    },
    {
     "data": {
      "image/png": "[encoded data removed]",
      "text/plain": [
       "<Figure size 640x480 with 1 Axes>"
      ]
     },
     "metadata": {},
     "output_type": "display_data"
    }
   ],
   "source": [
    "plt.imshow(X_train[6])"
   ]
  },
  {
   "cell_type": "markdown",
   "id": "a62b16cd",
   "metadata": {},
   "source": [
    "Let's rescale the data!"
   ]
  },
  {
   "cell_type": "code",
   "execution_count": 8,
   "id": "b4ae51a3",
   "metadata": {},
   "outputs": [],
   "source": [
    "X_train=X_train/255"
   ]
  },
  {
   "cell_type": "code",
   "execution_count": 9,
   "id": "c20b0338",
   "metadata": {},
   "outputs": [],
   "source": [
    "X_test=X_test/255"
   ]
  },
  {
   "cell_type": "code",
   "execution_count": 11,
   "id": "f35f2cbe",
   "metadata": {},
   "outputs": [],
   "source": [
    "from tensorflow.keras.models import Sequential\n",
    "from tensorflow.keras.layers import Dense, Flatten, Reshape\n",
    "from tensorflow.keras.optimizers import SGD"
   ]
  },
  {
   "cell_type": "markdown",
   "id": "f7d1b007",
   "metadata": {},
   "source": [
    "Note:Here we are going to reduce the dimention of the image and then reproduce it again.\n",
    "\n",
    "Each image is 28*28 \n"
   ]
  },
  {
   "cell_type": "code",
   "execution_count": 15,
   "id": "5fe0ac9a",
   "metadata": {},
   "outputs": [
    {
     "data": {
      "text/plain": [
       "(28, 28)"
      ]
     },
     "execution_count": 15,
     "metadata": {},
     "output_type": "execute_result"
    }
   ],
   "source": [
    "X_train[0].shape"
   ]
  },
  {
   "cell_type": "code",
   "execution_count": 12,
   "id": "282060b4",
   "metadata": {},
   "outputs": [
    {
     "data": {
      "text/plain": [
       "784"
      ]
     },
     "execution_count": 12,
     "metadata": {},
     "output_type": "execute_result"
    }
   ],
   "source": [
    "28*28"
   ]
  },
  {
   "cell_type": "code",
   "execution_count": 13,
   "id": "4dd43c21",
   "metadata": {},
   "outputs": [
    {
     "data": {
      "text/plain": [
       "392.0"
      ]
     },
     "execution_count": 13,
     "metadata": {},
     "output_type": "execute_result"
    }
   ],
   "source": [
    "784/2"
   ]
  },
  {
   "cell_type": "code",
   "execution_count": 16,
   "id": "a6937e6d",
   "metadata": {},
   "outputs": [
    {
     "name": "stderr",
     "output_type": "stream",
     "text": [
      "C:\\Users\\moham\\anaconda3\\lib\\site-packages\\keras\\src\\layers\\reshaping\\flatten.py:37: UserWarning: Do not pass an `input_shape`/`input_dim` argument to a layer. When using Sequential models, prefer using an `Input(shape)` object as the first layer in the model instead.\n",
      "  super().__init__(**kwargs)\n"
     ]
    }
   ],
   "source": [
    "encoder=Sequential()\n",
    "encoder.add(Flatten(input_shape=[28,28]))\n",
    "encoder.add(Dense(400, activation='relu'))\n",
    "#we would slowly decrease the dimention\n",
    "encoder.add(Dense(200, activation='relu'))\n",
    "encoder.add(Dense(100, activation='relu'))\n",
    "encoder.add(Dense(50, activation='relu'))\n",
    "encoder.add(Dense(25, activation='relu'))"
   ]
  },
  {
   "cell_type": "markdown",
   "id": "13dfe5c7",
   "metadata": {},
   "source": [
    "Note:Using the ReLU (Rectified Linear Unit) activation function has become a standard practice in deep learning models, including the encoder part of autoencoders, for several reasons:\n",
    "\n",
    "Avoiding the Vanishing Gradient Problem: Activation functions like the sigmoid or tanh can suffer from the vanishing gradient problem, where gradients become very small, causing slow learning or even stopping the learning in deep layers. ReLU does not have this problem because its gradient is either 0 or 1.\n",
    "\n",
    "Sparsity: ReLU can output zero for any input less than zero, leading to sparse representations, which can be beneficial in reducing the computational complexity and improving the model's generalization.\n",
    "\n",
    "Efficient Computation: ReLU is computationally efficient because it involves simple thresholding at zero. This efficiency speeds up the training process.\n",
    "\n",
    "Empirical Performance: ReLU has shown excellent empirical performance in various deep learning tasks. Many practical experiments and research have demonstrated that networks using ReLU converge faster and often achieve better performance compared to those using other activation functions.\n",
    "\n",
    "Other activation functions like sigmoid, tanh, or leaky ReLU can be used, and each has its own advantages and disadvantages:\n",
    "\n",
    "Sigmoid: Good for binary classification, but suffers from vanishing gradients and outputs in the range [0, 1].\n",
    "Tanh: Outputs in the range [-1, 1], which can help center the data but still suffers from the vanishing gradient problem.\n",
    "Leaky ReLU: Similar to ReLU but allows a small gradient when the unit is not active, which can mitigate the problem of \"dying ReLUs\" where neurons can sometimes get stuck in the inactive state.\n",
    "In practice, ReLU is chosen for its simplicity, effectiveness, and faster convergence, making it a popular choice in deep learning models."
   ]
  },
  {
   "cell_type": "code",
   "execution_count": 18,
   "id": "2f0f2ff7",
   "metadata": {},
   "outputs": [],
   "source": [
    "decoder=Sequential()\n",
    "#note: decoder neurons are the reverse of the enocder until you reach the first amount!\n",
    "decoder.add(Dense(50, input_shape=[25], activation='relu'))\n",
    "decoder.add(Dense(100, activation='relu'))\n",
    "decoder.add(Dense(200, activation='relu'))\n",
    "decoder.add(Dense(400, activation='relu'))\n",
    "decoder.add(Dense(784, activation='sigmoid'))\n",
    "decoder.add(Reshape([28,28]))"
   ]
  },
  {
   "cell_type": "code",
   "execution_count": 19,
   "id": "06719d84",
   "metadata": {},
   "outputs": [],
   "source": [
    "autoencoder=Sequential([encoder,decoder])"
   ]
  },
  {
   "cell_type": "code",
   "execution_count": 23,
   "id": "99aa8d3b",
   "metadata": {},
   "outputs": [],
   "source": [
    "autoencoder.compile(loss='binary_crossentropy', optimizer=SGD(learning_rate=0.7), metrics=['accuracy'])"
   ]
  },
  {
   "cell_type": "markdown",
   "id": "269f5d33",
   "metadata": {},
   "source": [
    "In machine learning, a loss function is used to measure how well the model's predictions match the actual data. It quantifies the difference between the predicted output and the true output, guiding the optimization process to adjust the model's weights and minimize this difference.\n",
    "\n",
    "What is loss='binary_crossentropy'?\n",
    "binary_crossentropy is a specific type of loss function used primarily for binary classification tasks or cases where the output can be interpreted as probabilities.\n",
    "\n",
    "Simplified Explanation with Examples\n",
    "Example 1: Binary Classification\n",
    "Imagine you have a simple problem where you need to classify whether an email is spam (1) or not spam (0).\n",
    "\n",
    "True labels (actual data): [0, 1, 0, 1, 0]\n",
    "Predicted probabilities (from the model): [0.1, 0.9, 0.2, 0.8, 0.3]\n",
    "For each email, binary_crossentropy will calculate a loss value based on how far the predicted probability is from the actual label (0 or 1). If the true label is 1 and the predicted probability is close to 1, the loss is low. If the true label is 0 and the predicted probability is close to 0, the loss is also low.\n",
    "\n",
    "The formula for binary cross-entropy is:\n",
    "binary_crossentropy\n",
    "=\n",
    "−\n",
    "1\n",
    "𝑁\n",
    "∑\n",
    "𝑖\n",
    "=\n",
    "1\n",
    "𝑁\n",
    "[\n",
    "𝑦\n",
    "𝑖\n",
    "log\n",
    "⁡\n",
    "(\n",
    "𝑝\n",
    "𝑖\n",
    ")\n",
    "+\n",
    "(\n",
    "1\n",
    "−\n",
    "𝑦\n",
    "𝑖\n",
    ")\n",
    "log\n",
    "⁡\n",
    "(\n",
    "1\n",
    "−\n",
    "𝑝\n",
    "𝑖\n",
    ")\n",
    "]\n",
    "binary_crossentropy=− \n",
    "N\n",
    "1\n",
    "​\n",
    " ∑ \n",
    "i=1\n",
    "N\n",
    "​\n",
    " [y \n",
    "i\n",
    "​\n",
    " log(p \n",
    "i\n",
    "​\n",
    " )+(1−y \n",
    "i\n",
    "​\n",
    " )log(1−p \n",
    "i\n",
    "​\n",
    " )]\n",
    "\n",
    "Where:\n",
    "\n",
    "𝑦\n",
    "𝑖\n",
    "y \n",
    "i\n",
    "​\n",
    "  is the true label (0 or 1)\n",
    "𝑝\n",
    "𝑖\n",
    "p \n",
    "i\n",
    "​\n",
    "  is the predicted probability\n",
    "𝑁\n",
    "N is the number of samples\n",
    "Example 2: Autoencoder for Image Reconstruction\n",
    "Let's consider an autoencoder like in your code, which is used for reconstructing images. The input images are in grayscale (values between 0 and 1).\n",
    "\n",
    "Input image: A 28x28 grayscale image.\n",
    "Output image: The reconstructed 28x28 grayscale image from the autoencoder.\n",
    "The autoencoder's goal is to minimize the difference between the input and the reconstructed image. Here, each pixel can be treated as a binary value (either closer to 0 or 1), and we can use binary_crossentropy to measure how well the model reconstructs the image.\n",
    "\n",
    "Why Use binary_crossentropy?\n",
    "Probabilistic Interpretation: When your output values are probabilities (like in classification tasks or autoencoders outputting normalized pixel values), binary_crossentropy is appropriate because it directly measures the difference between predicted probabilities and the actual labels.\n",
    "\n",
    "Effective for Binary Outputs: If your task involves binary outcomes (like pixel values in an image being on or off), binary_crossentropy is suitable.\n",
    "\n",
    "Good Performance: In practice, binary_crossentropy often leads to better performance and faster convergence for models dealing with binary or probabilistic outputs.\n",
    "\n",
    "Why Not Other Loss Functions?\n",
    "Mean Squared Error (MSE):\n",
    "\n",
    "Example: Let's say your true label is 0 and the predicted probability is 0.01.\n",
    "MSE\n",
    "=\n",
    "(\n",
    "0\n",
    "−\n",
    "0.01\n",
    ")\n",
    "2\n",
    "=\n",
    "0.0001\n",
    "MSE=(0−0.01) \n",
    "2\n",
    " =0.0001\n",
    "Limitation: While this value is small, MSE treats all errors equally and doesn't account for the probabilistic nature of the problem. It might not penalize large errors appropriately in probabilistic contexts.\n",
    "Categorical Crossentropy:\n",
    "\n",
    "Example: Used for multi-class classification tasks where there are more than two classes.\n",
    "Limitation: For binary or probability-based outputs, it would be unnecessarily complex and not optimized for binary outcomes."
   ]
  },
  {
   "cell_type": "code",
   "execution_count": 24,
   "id": "21b4a563",
   "metadata": {},
   "outputs": [
    {
     "name": "stdout",
     "output_type": "stream",
     "text": [
      "Epoch 1/9\n",
      "\u001b[1m1875/1875\u001b[0m \u001b[32m━━━━━━━━━━━━━━━━━━━━\u001b[0m\u001b[37m\u001b[0m \u001b[1m9s\u001b[0m 4ms/step - accuracy: 0.0642 - loss: 0.3158 - val_accuracy: 0.0941 - val_loss: 0.2381\n",
      "Epoch 2/9\n",
      "\u001b[1m1875/1875\u001b[0m \u001b[32m━━━━━━━━━━━━━━━━━━━━\u001b[0m\u001b[37m\u001b[0m \u001b[1m7s\u001b[0m 4ms/step - accuracy: 0.1023 - loss: 0.2333 - val_accuracy: 0.1554 - val_loss: 0.1999\n",
      "Epoch 3/9\n",
      "\u001b[1m1875/1875\u001b[0m \u001b[32m━━━━━━━━━━━━━━━━━━━━\u001b[0m\u001b[37m\u001b[0m \u001b[1m6s\u001b[0m 3ms/step - accuracy: 0.1492 - loss: 0.1945 - val_accuracy: 0.1834 - val_loss: 0.1698\n",
      "Epoch 4/9\n",
      "\u001b[1m1875/1875\u001b[0m \u001b[32m━━━━━━━━━━━━━━━━━━━━\u001b[0m\u001b[37m\u001b[0m \u001b[1m6s\u001b[0m 3ms/step - accuracy: 0.1844 - loss: 0.1671 - val_accuracy: 0.1938 - val_loss: 0.1553\n",
      "Epoch 5/9\n",
      "\u001b[1m1875/1875\u001b[0m \u001b[32m━━━━━━━━━━━━━━━━━━━━\u001b[0m\u001b[37m\u001b[0m \u001b[1m6s\u001b[0m 3ms/step - accuracy: 0.2024 - loss: 0.1541 - val_accuracy: 0.2021 - val_loss: 0.1478\n",
      "Epoch 6/9\n",
      "\u001b[1m1875/1875\u001b[0m \u001b[32m━━━━━━━━━━━━━━━━━━━━\u001b[0m\u001b[37m\u001b[0m \u001b[1m6s\u001b[0m 3ms/step - accuracy: 0.2124 - loss: 0.1483 - val_accuracy: 0.2171 - val_loss: 0.1459\n",
      "Epoch 7/9\n",
      "\u001b[1m1875/1875\u001b[0m \u001b[32m━━━━━━━━━━━━━━━━━━━━\u001b[0m\u001b[37m\u001b[0m \u001b[1m6s\u001b[0m 3ms/step - accuracy: 0.2194 - loss: 0.1429 - val_accuracy: 0.2190 - val_loss: 0.1422\n",
      "Epoch 8/9\n",
      "\u001b[1m1875/1875\u001b[0m \u001b[32m━━━━━━━━━━━━━━━━━━━━\u001b[0m\u001b[37m\u001b[0m \u001b[1m6s\u001b[0m 3ms/step - accuracy: 0.2276 - loss: 0.1376 - val_accuracy: 0.2307 - val_loss: 0.1321\n",
      "Epoch 9/9\n",
      "\u001b[1m1875/1875\u001b[0m \u001b[32m━━━━━━━━━━━━━━━━━━━━\u001b[0m\u001b[37m\u001b[0m \u001b[1m6s\u001b[0m 3ms/step - accuracy: 0.2336 - loss: 0.1327 - val_accuracy: 0.2369 - val_loss: 0.1276\n"
     ]
    },
    {
     "data": {
      "text/plain": [
       "<keras.src.callbacks.history.History at 0x27204c36a30>"
      ]
     },
     "execution_count": 24,
     "metadata": {},
     "output_type": "execute_result"
    }
   ],
   "source": [
    "autoencoder.fit(X_train,X_train, epochs=9, validation_data=[X_test, X_test])\n",
    "#note: for instance inout is X_train[0] and the output is also X_train [0] thus the model can be trained!"
   ]
  },
  {
   "cell_type": "code",
   "execution_count": 25,
   "id": "16141065",
   "metadata": {},
   "outputs": [
    {
     "name": "stdout",
     "output_type": "stream",
     "text": [
      "\u001b[1m1/1\u001b[0m \u001b[32m━━━━━━━━━━━━━━━━━━━━\u001b[0m\u001b[37m\u001b[0m \u001b[1m0s\u001b[0m 85ms/step\n"
     ]
    }
   ],
   "source": [
    "passed_images=autoencoder.predict(X_test[:10])\n"
   ]
  },
  {
   "cell_type": "code",
   "execution_count": 26,
   "id": "aa819c46",
   "metadata": {},
   "outputs": [
    {
     "name": "stdout",
     "output_type": "stream",
     "text": [
      "original_image\n"
     ]
    },
    {
     "data": {
      "image/png": "[encoded data removed]",
      "text/plain": [
       "<Figure size 640x480 with 1 Axes>"
      ]
     },
     "metadata": {},
     "output_type": "display_data"
    },
    {
     "name": "stdout",
     "output_type": "stream",
     "text": [
      "Attempted_reconstruction_of_the_Image\n"
     ]
    },
    {
     "data": {
      "text/plain": [
       "<matplotlib.image.AxesImage at 0x272257d6880>"
      ]
     },
     "execution_count": 26,
     "metadata": {},
     "output_type": "execute_result"
    },
    {
     "data": {
      "image/png": "[encoded data removed]",
      "text/plain": [
       "<Figure size 640x480 with 1 Axes>"
      ]
     },
     "metadata": {},
     "output_type": "display_data"
    }
   ],
   "source": [
    "n=0\n",
    "print(\"original_image\")\n",
    "plt.imshow(X_test[n])\n",
    "plt.show()\n",
    "print(\"Attempted_reconstruction_of_the_Image\")\n",
    "plt.imshow(passed_images[n])"
   ]
  },
  {
   "cell_type": "code",
   "execution_count": null,
   "id": "2501e930",
   "metadata": {},
   "outputs": [],
   "source": []
  }
 ],
 "metadata": {
  "kernelspec": {
   "display_name": "Python 3 (ipykernel)",
   "language": "python",
   "name": "python3"
  },
  "language_info": {
   "codemirror_mode": {
    "name": "ipython",
    "version": 3
   },
   "file_extension": ".py",
   "mimetype": "text/x-python",
   "name": "python",
   "nbconvert_exporter": "python",
   "pygments_lexer": "ipython3",
   "version": "3.9.13"
  }
 },
 "nbformat": 4,
 "nbformat_minor": 5
}
