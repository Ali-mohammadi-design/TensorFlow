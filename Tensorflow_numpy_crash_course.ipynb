{
  "nbformat": 4,
  "nbformat_minor": 0,
  "metadata": {
    "colab": {
      "provenance": []
    },
    "kernelspec": {
      "name": "python3",
      "display_name": "Python 3"
    },
    "language_info": {
      "name": "python"
    }
  },
  "cells": [
    {
      "cell_type": "markdown",
      "source": [
        "NumPy is a powerful library in Python that provides support for large, multi-dimensional arrays and matrices, along with a collection of mathematical functions to operate on these arrays efficiently. When you create a NumPy array, you're essentially creating a data structure that can hold elements of the same data type arranged in a grid, either as a vector, a matrix, or a higher-dimensional array.\n",
        "\n",
        "\n",
        "You can perform various operations on this array, such as slicing, reshaping, arithmetic operations, and much more. The key advantage of using NumPy arrays is their efficiency and the wide range of mathematical functions available for array manipulation.\n",
        "\n",
        "\n",
        "\n",
        "\n",
        "\n"
      ],
      "metadata": {
        "id": "84ylTzUQAuhY"
      }
    },
    {
      "cell_type": "code",
      "execution_count": 1,
      "metadata": {
        "id": "wOrjg2Tk_jSH"
      },
      "outputs": [],
      "source": [
        "import numpy as np"
      ]
    },
    {
      "cell_type": "code",
      "source": [
        "my_list=[1,2,3,4]"
      ],
      "metadata": {
        "id": "ALUWZbRGACmC"
      },
      "execution_count": 2,
      "outputs": []
    },
    {
      "cell_type": "code",
      "source": [
        "np.array(my_list)"
      ],
      "metadata": {
        "colab": {
          "base_uri": "https://localhost:8080/"
        },
        "id": "LZpf8ZfcA8c9",
        "outputId": "97ae7022-a1b6-42fc-abd5-a9d9b95d46fd"
      },
      "execution_count": 3,
      "outputs": [
        {
          "output_type": "execute_result",
          "data": {
            "text/plain": [
              "array([1, 2, 3, 4])"
            ]
          },
          "metadata": {},
          "execution_count": 3
        }
      ]
    },
    {
      "cell_type": "markdown",
      "source": [
        "Note: with np.arrange() you can automatically make the np.array"
      ],
      "metadata": {
        "id": "3sP1TqubBRAi"
      }
    },
    {
      "cell_type": "code",
      "source": [
        "np.arange(1,6)"
      ],
      "metadata": {
        "colab": {
          "base_uri": "https://localhost:8080/"
        },
        "id": "YTZWM0zuBAG6",
        "outputId": "592c0119-f415-497d-bef6-d7992078a26d"
      },
      "execution_count": 4,
      "outputs": [
        {
          "output_type": "execute_result",
          "data": {
            "text/plain": [
              "array([1, 2, 3, 4, 5])"
            ]
          },
          "metadata": {},
          "execution_count": 4
        }
      ]
    },
    {
      "cell_type": "markdown",
      "source": [
        "You can also set the steps from start to end"
      ],
      "metadata": {
        "id": "4JjoXH9pDoWX"
      }
    },
    {
      "cell_type": "code",
      "source": [
        "np.arange(1,10,2)"
      ],
      "metadata": {
        "colab": {
          "base_uri": "https://localhost:8080/"
        },
        "id": "HiOuoNS6BbGd",
        "outputId": "74365f08-07f6-413d-f3a8-725bdbea2b10"
      },
      "execution_count": 5,
      "outputs": [
        {
          "output_type": "execute_result",
          "data": {
            "text/plain": [
              "array([1, 3, 5, 7, 9])"
            ]
          },
          "metadata": {},
          "execution_count": 5
        }
      ]
    },
    {
      "cell_type": "markdown",
      "source": [
        "Note: Np.zeros() return matrix with only the zeros"
      ],
      "metadata": {
        "id": "GYXJmYj5D6WD"
      }
    },
    {
      "cell_type": "code",
      "source": [
        "np.zeros(4)"
      ],
      "metadata": {
        "colab": {
          "base_uri": "https://localhost:8080/"
        },
        "id": "VpG-cxO6Dxm3",
        "outputId": "46de42fd-4648-4127-be6a-f37648c45fe7"
      },
      "execution_count": 6,
      "outputs": [
        {
          "output_type": "execute_result",
          "data": {
            "text/plain": [
              "array([0., 0., 0., 0.])"
            ]
          },
          "metadata": {},
          "execution_count": 6
        }
      ]
    },
    {
      "cell_type": "code",
      "source": [
        "np.zeros((4,4))"
      ],
      "metadata": {
        "colab": {
          "base_uri": "https://localhost:8080/"
        },
        "id": "bSjkp0muECrY",
        "outputId": "1fbec771-4418-4103-d479-bfb328b4f9c7"
      },
      "execution_count": 7,
      "outputs": [
        {
          "output_type": "execute_result",
          "data": {
            "text/plain": [
              "array([[0., 0., 0., 0.],\n",
              "       [0., 0., 0., 0.],\n",
              "       [0., 0., 0., 0.],\n",
              "       [0., 0., 0., 0.]])"
            ]
          },
          "metadata": {},
          "execution_count": 7
        }
      ]
    },
    {
      "cell_type": "markdown",
      "source": [
        "The same goes for np.ones()"
      ],
      "metadata": {
        "id": "zLKmf4dPEZhn"
      }
    },
    {
      "cell_type": "code",
      "source": [
        "np.ones(3)"
      ],
      "metadata": {
        "colab": {
          "base_uri": "https://localhost:8080/"
        },
        "id": "-0bs6s0BEPEL",
        "outputId": "1e972c1a-7d74-4563-d2cd-b80251cd51ee"
      },
      "execution_count": 8,
      "outputs": [
        {
          "output_type": "execute_result",
          "data": {
            "text/plain": [
              "array([1., 1., 1.])"
            ]
          },
          "metadata": {},
          "execution_count": 8
        }
      ]
    },
    {
      "cell_type": "markdown",
      "source": [
        "Note: np.linspace() would get the start and end and the number of the points should be between start and end."
      ],
      "metadata": {
        "id": "p6fTEaQvEnTA"
      }
    },
    {
      "cell_type": "code",
      "source": [
        "np.linspace(1,10,3)"
      ],
      "metadata": {
        "colab": {
          "base_uri": "https://localhost:8080/"
        },
        "id": "EwgO0bKkEY2N",
        "outputId": "fef9bafb-52b1-43ed-aba7-f1f0ada00935"
      },
      "execution_count": 9,
      "outputs": [
        {
          "output_type": "execute_result",
          "data": {
            "text/plain": [
              "array([ 1. ,  5.5, 10. ])"
            ]
          },
          "metadata": {},
          "execution_count": 9
        }
      ]
    },
    {
      "cell_type": "markdown",
      "source": [
        "np.eye(n) would return the matrix, n X n, **all** zeros with the non-zero diagnal."
      ],
      "metadata": {
        "id": "PAVgkDp3FKO1"
      }
    },
    {
      "cell_type": "code",
      "source": [
        "np.eye(4)"
      ],
      "metadata": {
        "colab": {
          "base_uri": "https://localhost:8080/"
        },
        "id": "RJGuwp4SE1Ym",
        "outputId": "ac3ccabe-83b1-49e8-e489-ab54c92547d6"
      },
      "execution_count": 10,
      "outputs": [
        {
          "output_type": "execute_result",
          "data": {
            "text/plain": [
              "array([[1., 0., 0., 0.],\n",
              "       [0., 1., 0., 0.],\n",
              "       [0., 0., 1., 0.],\n",
              "       [0., 0., 0., 1.]])"
            ]
          },
          "metadata": {},
          "execution_count": 10
        }
      ]
    },
    {
      "cell_type": "markdown",
      "source": [
        "the .rand() would retun you some random numbers between 0 and 1"
      ],
      "metadata": {
        "id": "4pLzgkBaFwU7"
      }
    },
    {
      "cell_type": "code",
      "source": [
        "np.random.rand(3)"
      ],
      "metadata": {
        "colab": {
          "base_uri": "https://localhost:8080/"
        },
        "id": "-Z1iVGQPFYPk",
        "outputId": "5dca8670-5e2f-468f-91cf-132e58fac66d"
      },
      "execution_count": 11,
      "outputs": [
        {
          "output_type": "execute_result",
          "data": {
            "text/plain": [
              "array([0.77586715, 0.23851101, 0.26349314])"
            ]
          },
          "metadata": {},
          "execution_count": 11
        }
      ]
    },
    {
      "cell_type": "markdown",
      "source": [
        "You can also get a matrix n X m"
      ],
      "metadata": {
        "id": "wm7twtZJGBWz"
      }
    },
    {
      "cell_type": "code",
      "source": [
        "np.random.rand(3,5)"
      ],
      "metadata": {
        "colab": {
          "base_uri": "https://localhost:8080/"
        },
        "id": "UerqjElLF5xu",
        "outputId": "a4686f24-c374-4481-f1c9-4f0f6cce8443"
      },
      "execution_count": 12,
      "outputs": [
        {
          "output_type": "execute_result",
          "data": {
            "text/plain": [
              "array([[0.4131496 , 0.17055005, 0.46554565, 0.1924147 , 0.67903375],\n",
              "       [0.27702493, 0.85785112, 0.62695261, 0.09918758, 0.95242727],\n",
              "       [0.07079158, 0.44173784, 0.38651708, 0.40463015, 0.16521312]])"
            ]
          },
          "metadata": {},
          "execution_count": 12
        }
      ]
    },
    {
      "cell_type": "markdown",
      "source": [
        "for the .randn() you get some random data with 0 mean and 1 variance"
      ],
      "metadata": {
        "id": "vKWGTUzDGPaH"
      }
    },
    {
      "cell_type": "code",
      "source": [
        "np.random.randn(5,5)"
      ],
      "metadata": {
        "colab": {
          "base_uri": "https://localhost:8080/"
        },
        "id": "iFCY34kcGHnv",
        "outputId": "806de206-6df4-4e7d-fccf-b1c4ecf2ffff"
      },
      "execution_count": 13,
      "outputs": [
        {
          "output_type": "execute_result",
          "data": {
            "text/plain": [
              "array([[-0.57314089,  0.70252289,  0.64088198,  0.82370548,  0.9555339 ],\n",
              "       [ 1.05036234,  1.01770937,  1.40128812, -0.16495074, -0.83568801],\n",
              "       [ 1.10094447, -0.21613898, -1.16975691, -0.3240844 ,  0.26658941],\n",
              "       [-0.05320542,  0.10262351, -0.69584076,  1.07674472,  1.54326165],\n",
              "       [ 0.74684106, -1.06168058,  0.22346681, -1.13482179,  0.65426249]])"
            ]
          },
          "metadata": {},
          "execution_count": 13
        }
      ]
    },
    {
      "cell_type": "markdown",
      "source": [
        "the ,randint(a,b) return intiger random points amon a and b"
      ],
      "metadata": {
        "id": "LUWLkKY_Gt_c"
      }
    },
    {
      "cell_type": "code",
      "source": [
        "np.random.randint(2,100,5)"
      ],
      "metadata": {
        "colab": {
          "base_uri": "https://localhost:8080/"
        },
        "id": "-g7MkoGoGd8D",
        "outputId": "ef814157-9e49-461a-cb74-9e15c1c7fa88"
      },
      "execution_count": 14,
      "outputs": [
        {
          "output_type": "execute_result",
          "data": {
            "text/plain": [
              "array([10, 87, 43, 36, 91])"
            ]
          },
          "metadata": {},
          "execution_count": 14
        }
      ]
    },
    {
      "cell_type": "code",
      "source": [
        "np.random.randint(2,100,(2,3))"
      ],
      "metadata": {
        "colab": {
          "base_uri": "https://localhost:8080/"
        },
        "id": "ExYPcGTvGlz2",
        "outputId": "9923bce7-a4cb-4050-8d24-fd0a74d6e58a"
      },
      "execution_count": 15,
      "outputs": [
        {
          "output_type": "execute_result",
          "data": {
            "text/plain": [
              "array([[14, 91, 79],\n",
              "       [20, 73, 36]])"
            ]
          },
          "metadata": {},
          "execution_count": 15
        }
      ]
    },
    {
      "cell_type": "markdown",
      "source": [
        "Note: with .seed() you can fix the random point that you get every time"
      ],
      "metadata": {
        "id": "J4B51_CPIIxJ"
      }
    },
    {
      "cell_type": "code",
      "source": [
        "np.random.seed(42)\n",
        "np.random.randint(100,140)"
      ],
      "metadata": {
        "colab": {
          "base_uri": "https://localhost:8080/"
        },
        "id": "nvUydntBH8dF",
        "outputId": "402d70bf-51ce-4795-d693-ffb22a489248"
      },
      "execution_count": 16,
      "outputs": [
        {
          "output_type": "execute_result",
          "data": {
            "text/plain": [
              "138"
            ]
          },
          "metadata": {},
          "execution_count": 16
        }
      ]
    },
    {
      "cell_type": "markdown",
      "source": [
        "Note: .reshape() would reshape the array."
      ],
      "metadata": {
        "id": "rmzuNzzvJC8d"
      }
    },
    {
      "cell_type": "code",
      "source": [
        "arr=np.arange(25)\n",
        "arr"
      ],
      "metadata": {
        "colab": {
          "base_uri": "https://localhost:8080/"
        },
        "id": "8-y6eZV7IfLX",
        "outputId": "4ef6491f-0e2e-460b-f5a3-99991801f1c8"
      },
      "execution_count": 17,
      "outputs": [
        {
          "output_type": "execute_result",
          "data": {
            "text/plain": [
              "array([ 0,  1,  2,  3,  4,  5,  6,  7,  8,  9, 10, 11, 12, 13, 14, 15, 16,\n",
              "       17, 18, 19, 20, 21, 22, 23, 24])"
            ]
          },
          "metadata": {},
          "execution_count": 17
        }
      ]
    },
    {
      "cell_type": "code",
      "source": [
        "arr.reshape(5,5)"
      ],
      "metadata": {
        "colab": {
          "base_uri": "https://localhost:8080/"
        },
        "id": "e-EmT564JKay",
        "outputId": "82c17805-92b7-4123-e342-1eb4d79dbd57"
      },
      "execution_count": 18,
      "outputs": [
        {
          "output_type": "execute_result",
          "data": {
            "text/plain": [
              "array([[ 0,  1,  2,  3,  4],\n",
              "       [ 5,  6,  7,  8,  9],\n",
              "       [10, 11, 12, 13, 14],\n",
              "       [15, 16, 17, 18, 19],\n",
              "       [20, 21, 22, 23, 24]])"
            ]
          },
          "metadata": {},
          "execution_count": 18
        }
      ]
    },
    {
      "cell_type": "markdown",
      "source": [
        ".max() and .min() would return max and min"
      ],
      "metadata": {
        "id": "jKLcM8EkJtci"
      }
    },
    {
      "cell_type": "code",
      "source": [
        "arr.max()"
      ],
      "metadata": {
        "colab": {
          "base_uri": "https://localhost:8080/"
        },
        "id": "x8uMFNVNJO2T",
        "outputId": "dcd324f6-5168-4a65-8d0c-d9cea26e043f"
      },
      "execution_count": 19,
      "outputs": [
        {
          "output_type": "execute_result",
          "data": {
            "text/plain": [
              "24"
            ]
          },
          "metadata": {},
          "execution_count": 19
        }
      ]
    },
    {
      "cell_type": "code",
      "source": [
        "arr.reshape(5,5).max()"
      ],
      "metadata": {
        "colab": {
          "base_uri": "https://localhost:8080/"
        },
        "id": "keNvtPtBJ19c",
        "outputId": "22e45d90-e124-44f3-e93d-8b49135ca770"
      },
      "execution_count": 20,
      "outputs": [
        {
          "output_type": "execute_result",
          "data": {
            "text/plain": [
              "24"
            ]
          },
          "metadata": {},
          "execution_count": 20
        }
      ]
    },
    {
      "cell_type": "markdown",
      "source": [
        "argmax() would return the location of the max element"
      ],
      "metadata": {
        "id": "uogHcyv7KBvm"
      }
    },
    {
      "cell_type": "code",
      "source": [
        "arr.argmax()"
      ],
      "metadata": {
        "colab": {
          "base_uri": "https://localhost:8080/"
        },
        "id": "S_tPdfkAJ6Yp",
        "outputId": "fb0a284b-3255-4fc1-e501-0a3679b841a6"
      },
      "execution_count": 21,
      "outputs": [
        {
          "output_type": "execute_result",
          "data": {
            "text/plain": [
              "24"
            ]
          },
          "metadata": {},
          "execution_count": 21
        }
      ]
    },
    {
      "cell_type": "markdown",
      "source": [
        "note: dtype would retun the type of the data"
      ],
      "metadata": {
        "id": "1KSdB9E2KRJ2"
      }
    },
    {
      "cell_type": "code",
      "source": [
        "arr.dtype"
      ],
      "metadata": {
        "colab": {
          "base_uri": "https://localhost:8080/"
        },
        "id": "jUTDEjldKIsk",
        "outputId": "e98f25fb-9c37-4f3f-fad6-116d9c9dfdb4"
      },
      "execution_count": 22,
      "outputs": [
        {
          "output_type": "execute_result",
          "data": {
            "text/plain": [
              "dtype('int64')"
            ]
          },
          "metadata": {},
          "execution_count": 22
        }
      ]
    },
    {
      "cell_type": "markdown",
      "source": [
        "**indexing and selection**"
      ],
      "metadata": {
        "id": "1C73mmKvKlH2"
      }
    },
    {
      "cell_type": "code",
      "source": [
        "arr=np.arange(0,15)\n",
        "arr"
      ],
      "metadata": {
        "colab": {
          "base_uri": "https://localhost:8080/"
        },
        "id": "DTu61n7KKWxE",
        "outputId": "3d2627ee-2c69-4c9e-d00c-e5c61dfc1056"
      },
      "execution_count": 23,
      "outputs": [
        {
          "output_type": "execute_result",
          "data": {
            "text/plain": [
              "array([ 0,  1,  2,  3,  4,  5,  6,  7,  8,  9, 10, 11, 12, 13, 14])"
            ]
          },
          "metadata": {},
          "execution_count": 23
        }
      ]
    },
    {
      "cell_type": "code",
      "source": [
        "arr[8]"
      ],
      "metadata": {
        "colab": {
          "base_uri": "https://localhost:8080/"
        },
        "id": "A66JkOfVK46R",
        "outputId": "65daedc6-9213-44b5-b4a2-096de5316d4b"
      },
      "execution_count": 24,
      "outputs": [
        {
          "output_type": "execute_result",
          "data": {
            "text/plain": [
              "8"
            ]
          },
          "metadata": {},
          "execution_count": 24
        }
      ]
    },
    {
      "cell_type": "code",
      "source": [
        "arr[1:6]"
      ],
      "metadata": {
        "colab": {
          "base_uri": "https://localhost:8080/"
        },
        "id": "ijsJXzR2K8J8",
        "outputId": "9720c4bf-4e51-4061-d9f6-ebe6f917b057"
      },
      "execution_count": 25,
      "outputs": [
        {
          "output_type": "execute_result",
          "data": {
            "text/plain": [
              "array([1, 2, 3, 4, 5])"
            ]
          },
          "metadata": {},
          "execution_count": 25
        }
      ]
    },
    {
      "cell_type": "code",
      "source": [
        "arr[:6]"
      ],
      "metadata": {
        "colab": {
          "base_uri": "https://localhost:8080/"
        },
        "id": "WX46vVH6LFtw",
        "outputId": "c6edffad-7e0b-4037-93ef-c4805185d0e8"
      },
      "execution_count": 26,
      "outputs": [
        {
          "output_type": "execute_result",
          "data": {
            "text/plain": [
              "array([0, 1, 2, 3, 4, 5])"
            ]
          },
          "metadata": {},
          "execution_count": 26
        }
      ]
    },
    {
      "cell_type": "code",
      "source": [
        "arr[6:]"
      ],
      "metadata": {
        "colab": {
          "base_uri": "https://localhost:8080/"
        },
        "id": "ERVHFvzmK-Dk",
        "outputId": "e02c85c9-6eb7-4127-bcb4-fcf98d7a3607"
      },
      "execution_count": 27,
      "outputs": [
        {
          "output_type": "execute_result",
          "data": {
            "text/plain": [
              "array([ 6,  7,  8,  9, 10, 11, 12, 13, 14])"
            ]
          },
          "metadata": {},
          "execution_count": 27
        }
      ]
    },
    {
      "cell_type": "markdown",
      "source": [
        ": means every thing"
      ],
      "metadata": {
        "id": "E4cMQgUcM9AO"
      }
    },
    {
      "cell_type": "code",
      "source": [
        "arr2=arr[:]\n",
        "arr2"
      ],
      "metadata": {
        "colab": {
          "base_uri": "https://localhost:8080/"
        },
        "id": "A4ok7-zfNJXI",
        "outputId": "81b649d9-c535-4a7c-88d5-7f4d320ba248"
      },
      "execution_count": 28,
      "outputs": [
        {
          "output_type": "execute_result",
          "data": {
            "text/plain": [
              "array([ 0,  1,  2,  3,  4,  5,  6,  7,  8,  9, 10, 11, 12, 13, 14])"
            ]
          },
          "metadata": {},
          "execution_count": 28
        }
      ]
    },
    {
      "cell_type": "markdown",
      "source": [
        "Note: in numpy you can assign new amount to the data. In the normal list you cannot do this"
      ],
      "metadata": {
        "id": "CHM-C50_MO1J"
      }
    },
    {
      "cell_type": "code",
      "source": [
        "arr"
      ],
      "metadata": {
        "colab": {
          "base_uri": "https://localhost:8080/"
        },
        "id": "Zv1lDPJjLOAt",
        "outputId": "29c2b8ae-f94f-44ea-a444-488bd77503b4"
      },
      "execution_count": 29,
      "outputs": [
        {
          "output_type": "execute_result",
          "data": {
            "text/plain": [
              "array([ 0,  1,  2,  3,  4,  5,  6,  7,  8,  9, 10, 11, 12, 13, 14])"
            ]
          },
          "metadata": {},
          "execution_count": 29
        }
      ]
    },
    {
      "cell_type": "code",
      "source": [
        "arr[5:11]=100\n",
        "arr"
      ],
      "metadata": {
        "colab": {
          "base_uri": "https://localhost:8080/"
        },
        "id": "dgFMCyAhMWsh",
        "outputId": "38ed8f5e-47f1-4cc9-8889-dc8f5ba7cc8a"
      },
      "execution_count": 30,
      "outputs": [
        {
          "output_type": "execute_result",
          "data": {
            "text/plain": [
              "array([  0,   1,   2,   3,   4, 100, 100, 100, 100, 100, 100,  11,  12,\n",
              "        13,  14])"
            ]
          },
          "metadata": {},
          "execution_count": 30
        }
      ]
    },
    {
      "cell_type": "markdown",
      "source": [
        "in numpy you can also do the slicing"
      ],
      "metadata": {
        "id": "g5TK3cWZMiol"
      }
    },
    {
      "cell_type": "code",
      "source": [
        "arr=np.arange(1,14)\n",
        "arr"
      ],
      "metadata": {
        "colab": {
          "base_uri": "https://localhost:8080/"
        },
        "id": "IX7XkdSPMZ_m",
        "outputId": "4b34f01c-1516-440c-97e2-bc4c327778a5"
      },
      "execution_count": 31,
      "outputs": [
        {
          "output_type": "execute_result",
          "data": {
            "text/plain": [
              "array([ 1,  2,  3,  4,  5,  6,  7,  8,  9, 10, 11, 12, 13])"
            ]
          },
          "metadata": {},
          "execution_count": 31
        }
      ]
    },
    {
      "cell_type": "code",
      "source": [
        "sliced_arr=arr[1:5]\n",
        "sliced_arr"
      ],
      "metadata": {
        "colab": {
          "base_uri": "https://localhost:8080/"
        },
        "id": "zikWVNsxMp0O",
        "outputId": "ed8fbf10-af02-45fe-966c-d0068b3d4334"
      },
      "execution_count": 32,
      "outputs": [
        {
          "output_type": "execute_result",
          "data": {
            "text/plain": [
              "array([2, 3, 4, 5])"
            ]
          },
          "metadata": {},
          "execution_count": 32
        }
      ]
    },
    {
      "cell_type": "code",
      "source": [
        "arr2d=np.array([[1,2,3],[5,6,3],[1,5,6]])\n",
        "arr2d"
      ],
      "metadata": {
        "colab": {
          "base_uri": "https://localhost:8080/"
        },
        "id": "Ha6KzmdcMzXH",
        "outputId": "9e41d2a3-6c4e-4266-d5f1-2782fbad7199"
      },
      "execution_count": 33,
      "outputs": [
        {
          "output_type": "execute_result",
          "data": {
            "text/plain": [
              "array([[1, 2, 3],\n",
              "       [5, 6, 3],\n",
              "       [1, 5, 6]])"
            ]
          },
          "metadata": {},
          "execution_count": 33
        }
      ]
    },
    {
      "cell_type": "markdown",
      "source": [
        "note: .shape would return the number of the rows and columns of the array"
      ],
      "metadata": {
        "id": "bvkLVFjUOPAs"
      }
    },
    {
      "cell_type": "code",
      "source": [
        "arr2d.shape"
      ],
      "metadata": {
        "colab": {
          "base_uri": "https://localhost:8080/"
        },
        "id": "GzfTpli9OEDv",
        "outputId": "59399e90-73db-4845-cc91-146a360ee8df"
      },
      "execution_count": 34,
      "outputs": [
        {
          "output_type": "execute_result",
          "data": {
            "text/plain": [
              "(3, 3)"
            ]
          },
          "metadata": {},
          "execution_count": 34
        }
      ]
    },
    {
      "cell_type": "markdown",
      "source": [
        "we can index the rows and columns with of the arr2d with the following codes"
      ],
      "metadata": {
        "id": "0lp7JKjoOfUb"
      }
    },
    {
      "cell_type": "code",
      "source": [
        "arr2d[0,:]"
      ],
      "metadata": {
        "colab": {
          "base_uri": "https://localhost:8080/"
        },
        "id": "icw0G-vPOYbw",
        "outputId": "39db3f54-ec03-4dc7-95f6-c60d68c7727f"
      },
      "execution_count": 35,
      "outputs": [
        {
          "output_type": "execute_result",
          "data": {
            "text/plain": [
              "array([1, 2, 3])"
            ]
          },
          "metadata": {},
          "execution_count": 35
        }
      ]
    },
    {
      "cell_type": "code",
      "source": [
        "arr2d[:,1]"
      ],
      "metadata": {
        "colab": {
          "base_uri": "https://localhost:8080/"
        },
        "id": "USdmsODVOoTN",
        "outputId": "6a503ffa-5452-483a-e1a0-17458281e089"
      },
      "execution_count": 36,
      "outputs": [
        {
          "output_type": "execute_result",
          "data": {
            "text/plain": [
              "array([2, 6, 5])"
            ]
          },
          "metadata": {},
          "execution_count": 36
        }
      ]
    },
    {
      "cell_type": "markdown",
      "source": [
        "with the following code we can get all the rows and columns until sepcified row or column"
      ],
      "metadata": {
        "id": "0xXz2q-EPeix"
      }
    },
    {
      "cell_type": "code",
      "source": [
        "arr2d[:2,:]"
      ],
      "metadata": {
        "colab": {
          "base_uri": "https://localhost:8080/"
        },
        "id": "yDtRWvbXPldg",
        "outputId": "42edf54f-9e0c-4b50-f799-cd4b481338a7"
      },
      "execution_count": 37,
      "outputs": [
        {
          "output_type": "execute_result",
          "data": {
            "text/plain": [
              "array([[1, 2, 3],\n",
              "       [5, 6, 3]])"
            ]
          },
          "metadata": {},
          "execution_count": 37
        }
      ]
    },
    {
      "cell_type": "code",
      "source": [
        "arr2d[:,:2]"
      ],
      "metadata": {
        "colab": {
          "base_uri": "https://localhost:8080/"
        },
        "id": "3HhbigFbPore",
        "outputId": "bdf56363-5d85-49c3-8dfe-7e9add2a8ce1"
      },
      "execution_count": 38,
      "outputs": [
        {
          "output_type": "execute_result",
          "data": {
            "text/plain": [
              "array([[1, 2],\n",
              "       [5, 6],\n",
              "       [1, 5]])"
            ]
          },
          "metadata": {},
          "execution_count": 38
        }
      ]
    },
    {
      "cell_type": "code",
      "source": [
        "arr2d[:1,2:]"
      ],
      "metadata": {
        "colab": {
          "base_uri": "https://localhost:8080/"
        },
        "id": "YWzcspbCP3RW",
        "outputId": "c31dab5a-9e2c-4541-ad0e-cb68195d30e2"
      },
      "execution_count": 39,
      "outputs": [
        {
          "output_type": "execute_result",
          "data": {
            "text/plain": [
              "array([[3]])"
            ]
          },
          "metadata": {},
          "execution_count": 39
        }
      ]
    },
    {
      "cell_type": "markdown",
      "source": [
        "Note: in arr2d if I want the element on second row and second column what should I do?"
      ],
      "metadata": {
        "id": "SNwMYXOmO3-_"
      }
    },
    {
      "cell_type": "code",
      "source": [
        "arr2d[1][1]"
      ],
      "metadata": {
        "colab": {
          "base_uri": "https://localhost:8080/"
        },
        "id": "MFzUG0YHOsPW",
        "outputId": "8715eacc-70e8-49ce-c507-450d1c6cf4aa"
      },
      "execution_count": 40,
      "outputs": [
        {
          "output_type": "execute_result",
          "data": {
            "text/plain": [
              "6"
            ]
          },
          "metadata": {},
          "execution_count": 40
        }
      ]
    },
    {
      "cell_type": "markdown",
      "source": [
        "OR"
      ],
      "metadata": {
        "id": "pHqzx9-dPQaw"
      }
    },
    {
      "cell_type": "code",
      "source": [
        "arr2d[1,1]"
      ],
      "metadata": {
        "colab": {
          "base_uri": "https://localhost:8080/"
        },
        "id": "ztZJ3PYAPBgG",
        "outputId": "173d860e-b980-446b-8b5a-05c310be02d8"
      },
      "execution_count": 41,
      "outputs": [
        {
          "output_type": "execute_result",
          "data": {
            "text/plain": [
              "6"
            ]
          },
          "metadata": {},
          "execution_count": 41
        }
      ]
    },
    {
      "cell_type": "markdown",
      "source": [
        "in numpy you can also have the conditional selection"
      ],
      "metadata": {
        "id": "l7-wK4IgQRCt"
      }
    },
    {
      "cell_type": "code",
      "source": [
        "arr=np.arange(1,11)\n",
        "arr"
      ],
      "metadata": {
        "colab": {
          "base_uri": "https://localhost:8080/"
        },
        "id": "4LtMhfm6PTKf",
        "outputId": "b0423f47-ab9f-4245-c508-500e758ad3cd"
      },
      "execution_count": 42,
      "outputs": [
        {
          "output_type": "execute_result",
          "data": {
            "text/plain": [
              "array([ 1,  2,  3,  4,  5,  6,  7,  8,  9, 10])"
            ]
          },
          "metadata": {},
          "execution_count": 42
        }
      ]
    },
    {
      "cell_type": "markdown",
      "source": [
        "which part of my arr is greator than 4?"
      ],
      "metadata": {
        "id": "0egbsyVdQiMO"
      }
    },
    {
      "cell_type": "code",
      "source": [
        "arr > 4"
      ],
      "metadata": {
        "colab": {
          "base_uri": "https://localhost:8080/"
        },
        "id": "meLNKUF1QaCr",
        "outputId": "68ca09fe-c976-416e-854c-edabc0a06a57"
      },
      "execution_count": 43,
      "outputs": [
        {
          "output_type": "execute_result",
          "data": {
            "text/plain": [
              "array([False, False, False, False,  True,  True,  True,  True,  True,\n",
              "        True])"
            ]
          },
          "metadata": {},
          "execution_count": 43
        }
      ]
    },
    {
      "cell_type": "markdown",
      "source": [
        "we can use this feature to filter the array"
      ],
      "metadata": {
        "id": "iaB0STs2Qviz"
      }
    },
    {
      "cell_type": "code",
      "source": [
        "bool=arr>4"
      ],
      "metadata": {
        "id": "GU0GnJikQe6g"
      },
      "execution_count": 44,
      "outputs": []
    },
    {
      "cell_type": "code",
      "source": [
        "arr[bool]"
      ],
      "metadata": {
        "colab": {
          "base_uri": "https://localhost:8080/"
        },
        "id": "_Ql5LWRxQ0GW",
        "outputId": "99b749f4-e734-419e-d113-ffed54469052"
      },
      "execution_count": 45,
      "outputs": [
        {
          "output_type": "execute_result",
          "data": {
            "text/plain": [
              "array([ 5,  6,  7,  8,  9, 10])"
            ]
          },
          "metadata": {},
          "execution_count": 45
        }
      ]
    },
    {
      "cell_type": "markdown",
      "source": [
        "**Operations**"
      ],
      "metadata": {
        "id": "a2l3jJjEF7Aw"
      }
    },
    {
      "cell_type": "markdown",
      "source": [
        "Note: Numpy perform operations on element on element bases."
      ],
      "metadata": {
        "id": "vxQ2u5vRF5x_"
      }
    },
    {
      "cell_type": "code",
      "source": [
        "arr=np.arange(1,10)\n",
        "arr"
      ],
      "metadata": {
        "id": "cG68pWJQQ10T",
        "colab": {
          "base_uri": "https://localhost:8080/"
        },
        "outputId": "91763d81-2399-40be-98eb-172c655d487c"
      },
      "execution_count": 48,
      "outputs": [
        {
          "output_type": "execute_result",
          "data": {
            "text/plain": [
              "array([1, 2, 3, 4, 5, 6, 7, 8, 9])"
            ]
          },
          "metadata": {},
          "execution_count": 48
        }
      ]
    },
    {
      "cell_type": "code",
      "source": [
        "arr+5"
      ],
      "metadata": {
        "colab": {
          "base_uri": "https://localhost:8080/"
        },
        "id": "JW1Mvoi_GJvp",
        "outputId": "681c51a7-333d-4ee2-fcf7-226675ab85f3"
      },
      "execution_count": 49,
      "outputs": [
        {
          "output_type": "execute_result",
          "data": {
            "text/plain": [
              "array([ 6,  7,  8,  9, 10, 11, 12, 13, 14])"
            ]
          },
          "metadata": {},
          "execution_count": 49
        }
      ]
    },
    {
      "cell_type": "code",
      "source": [
        "arr+arr"
      ],
      "metadata": {
        "colab": {
          "base_uri": "https://localhost:8080/"
        },
        "id": "TgRmmS3GGN6Q",
        "outputId": "ef5d43a6-9839-450e-db45-69aaa83e1b00"
      },
      "execution_count": 50,
      "outputs": [
        {
          "output_type": "execute_result",
          "data": {
            "text/plain": [
              "array([ 2,  4,  6,  8, 10, 12, 14, 16, 18])"
            ]
          },
          "metadata": {},
          "execution_count": 50
        }
      ]
    },
    {
      "cell_type": "code",
      "source": [
        "arr/3"
      ],
      "metadata": {
        "colab": {
          "base_uri": "https://localhost:8080/"
        },
        "id": "LrsXv90OGVxL",
        "outputId": "476436c6-1283-4778-ece9-fe7f21406d61"
      },
      "execution_count": 51,
      "outputs": [
        {
          "output_type": "execute_result",
          "data": {
            "text/plain": [
              "array([0.33333333, 0.66666667, 1.        , 1.33333333, 1.66666667,\n",
              "       2.        , 2.33333333, 2.66666667, 3.        ])"
            ]
          },
          "metadata": {},
          "execution_count": 51
        }
      ]
    },
    {
      "cell_type": "code",
      "source": [
        "np.sqrt(arr)"
      ],
      "metadata": {
        "colab": {
          "base_uri": "https://localhost:8080/"
        },
        "id": "0crJKvO6GYdc",
        "outputId": "08578ea8-4e77-4b2d-e2db-7c89b2464ccb"
      },
      "execution_count": 53,
      "outputs": [
        {
          "output_type": "execute_result",
          "data": {
            "text/plain": [
              "array([1.        , 1.41421356, 1.73205081, 2.        , 2.23606798,\n",
              "       2.44948974, 2.64575131, 2.82842712, 3.        ])"
            ]
          },
          "metadata": {},
          "execution_count": 53
        }
      ]
    },
    {
      "cell_type": "code",
      "source": [
        "np.log(arr)"
      ],
      "metadata": {
        "colab": {
          "base_uri": "https://localhost:8080/"
        },
        "id": "uc04vvPMG4Jk",
        "outputId": "ac744808-2d88-4ac4-b74d-f74e4ddcd924"
      },
      "execution_count": 54,
      "outputs": [
        {
          "output_type": "execute_result",
          "data": {
            "text/plain": [
              "array([0.        , 0.69314718, 1.09861229, 1.38629436, 1.60943791,\n",
              "       1.79175947, 1.94591015, 2.07944154, 2.19722458])"
            ]
          },
          "metadata": {},
          "execution_count": 54
        }
      ]
    },
    {
      "cell_type": "markdown",
      "source": [
        "note: .sum() would sum up all the numbers in the array."
      ],
      "metadata": {
        "id": "66EDlaj3HLxE"
      }
    },
    {
      "cell_type": "code",
      "source": [
        "arr.sum()"
      ],
      "metadata": {
        "colab": {
          "base_uri": "https://localhost:8080/"
        },
        "id": "4lYhOeAQHAR5",
        "outputId": "150b39a7-fdd6-4d2e-a63f-158baa17b337"
      },
      "execution_count": 55,
      "outputs": [
        {
          "output_type": "execute_result",
          "data": {
            "text/plain": [
              "45"
            ]
          },
          "metadata": {},
          "execution_count": 55
        }
      ]
    },
    {
      "cell_type": "code",
      "source": [
        "arr.mean()"
      ],
      "metadata": {
        "colab": {
          "base_uri": "https://localhost:8080/"
        },
        "id": "bQ60ZwUlHTg8",
        "outputId": "4a414272-1714-4ecf-eeab-2d7fb0fa08cc"
      },
      "execution_count": 56,
      "outputs": [
        {
          "output_type": "execute_result",
          "data": {
            "text/plain": [
              "5.0"
            ]
          },
          "metadata": {},
          "execution_count": 56
        }
      ]
    },
    {
      "cell_type": "code",
      "source": [
        "arr.max()"
      ],
      "metadata": {
        "colab": {
          "base_uri": "https://localhost:8080/"
        },
        "id": "nK5Jw_qsHYMv",
        "outputId": "f4638c25-37eb-4098-9d35-13fdfa6ccc3e"
      },
      "execution_count": 57,
      "outputs": [
        {
          "output_type": "execute_result",
          "data": {
            "text/plain": [
              "9"
            ]
          },
          "metadata": {},
          "execution_count": 57
        }
      ]
    },
    {
      "cell_type": "code",
      "source": [
        "arr.min()"
      ],
      "metadata": {
        "colab": {
          "base_uri": "https://localhost:8080/"
        },
        "id": "mb5loIN3HaOF",
        "outputId": "32f1f375-513c-4950-d6a7-609bbad5c78a"
      },
      "execution_count": 58,
      "outputs": [
        {
          "output_type": "execute_result",
          "data": {
            "text/plain": [
              "1"
            ]
          },
          "metadata": {},
          "execution_count": 58
        }
      ]
    },
    {
      "cell_type": "markdown",
      "source": [
        "Note: .var() is the variance function."
      ],
      "metadata": {
        "id": "V-SPo2yZHfm2"
      }
    },
    {
      "cell_type": "code",
      "source": [
        "arr.var()"
      ],
      "metadata": {
        "colab": {
          "base_uri": "https://localhost:8080/"
        },
        "id": "2WOIfR70HbKZ",
        "outputId": "6769e321-5c86-48e7-cfcb-122858d93508"
      },
      "execution_count": 59,
      "outputs": [
        {
          "output_type": "execute_result",
          "data": {
            "text/plain": [
              "6.666666666666667"
            ]
          },
          "metadata": {},
          "execution_count": 59
        }
      ]
    },
    {
      "cell_type": "markdown",
      "source": [
        "Note: .std() would calculate the stadard variation."
      ],
      "metadata": {
        "id": "NltzVquXHnNq"
      }
    },
    {
      "cell_type": "code",
      "source": [
        "arr.std()"
      ],
      "metadata": {
        "colab": {
          "base_uri": "https://localhost:8080/"
        },
        "id": "9VjhvHLzHeq1",
        "outputId": "2f8e5d27-a71c-43e9-9b08-2f4069df5bc8"
      },
      "execution_count": 60,
      "outputs": [
        {
          "output_type": "execute_result",
          "data": {
            "text/plain": [
              "2.581988897471611"
            ]
          },
          "metadata": {},
          "execution_count": 60
        }
      ]
    },
    {
      "cell_type": "code",
      "source": [
        "arr2d=np.arange(0,25).reshape(5,5)\n",
        "arr2d"
      ],
      "metadata": {
        "colab": {
          "base_uri": "https://localhost:8080/"
        },
        "id": "XCITNtwHHs8O",
        "outputId": "b56f7e0b-83ef-4efc-de93-61e1eebdd8a8"
      },
      "execution_count": 64,
      "outputs": [
        {
          "output_type": "execute_result",
          "data": {
            "text/plain": [
              "array([[ 0,  1,  2,  3,  4],\n",
              "       [ 5,  6,  7,  8,  9],\n",
              "       [10, 11, 12, 13, 14],\n",
              "       [15, 16, 17, 18, 19],\n",
              "       [20, 21, 22, 23, 24]])"
            ]
          },
          "metadata": {},
          "execution_count": 64
        }
      ]
    },
    {
      "cell_type": "code",
      "source": [
        "arr2d.sum()"
      ],
      "metadata": {
        "colab": {
          "base_uri": "https://localhost:8080/"
        },
        "id": "FlQ11DwOH6_9",
        "outputId": "c0dc0036-2645-4ee1-dfa9-cca77fae38d9"
      },
      "execution_count": 65,
      "outputs": [
        {
          "output_type": "execute_result",
          "data": {
            "text/plain": [
              "300"
            ]
          },
          "metadata": {},
          "execution_count": 65
        }
      ]
    },
    {
      "cell_type": "markdown",
      "source": [
        "Note: rows ----> axis=0\n",
        "columns -----> axis=1\n",
        "when we say arr2d.sum(axis=0) it means that do the operation ACROSS the rows (which means for every column)."
      ],
      "metadata": {
        "id": "2rHj9OOwIQ9x"
      }
    },
    {
      "cell_type": "code",
      "source": [
        "arr2d.sum(axis=0)"
      ],
      "metadata": {
        "colab": {
          "base_uri": "https://localhost:8080/"
        },
        "id": "9tnevGxvIGfu",
        "outputId": "b6c9af55-789b-499b-d302-aca58b81d4de"
      },
      "execution_count": 66,
      "outputs": [
        {
          "output_type": "execute_result",
          "data": {
            "text/plain": [
              "array([50, 55, 60, 65, 70])"
            ]
          },
          "metadata": {},
          "execution_count": 66
        }
      ]
    },
    {
      "cell_type": "code",
      "source": [],
      "metadata": {
        "id": "YTJya48fIqMd"
      },
      "execution_count": null,
      "outputs": []
    }
  ]
}