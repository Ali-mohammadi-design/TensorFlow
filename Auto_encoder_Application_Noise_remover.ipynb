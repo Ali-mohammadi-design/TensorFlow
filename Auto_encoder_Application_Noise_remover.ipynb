{
 "cells": [
  {
   "cell_type": "markdown",
   "id": "8b1855e0",
   "metadata": {},
   "source": [
    "Can we make change on the images, like denoise them or make them more vague, by the Autoencoders?"
   ]
  },
  {
   "cell_type": "markdown",
   "id": "5d201819",
   "metadata": {},
   "source": [
    "We want to teach the machine that save important features of the data and remove the remained!\n",
    "\n",
    "When the input is large and it get smaller and smaller for every layer we would reduce the dimentions and keep the most important features of the data\n",
    "\n",
    "In this code we want just get an image, reduce it dimentions with the encoder and reproduce it again with the decoder!"
   ]
  },
  {
   "cell_type": "code",
   "execution_count": 1,
   "id": "9c60ce21",
   "metadata": {},
   "outputs": [],
   "source": [
    "import pandas as pd\n",
    "import numpy as np\n",
    "import matplotlib.pyplot as plt\n"
   ]
  },
  {
   "cell_type": "code",
   "execution_count": 2,
   "id": "0b06a2c4",
   "metadata": {},
   "outputs": [
    {
     "name": "stderr",
     "output_type": "stream",
     "text": [
      "C:\\Users\\moham\\anaconda3\\lib\\site-packages\\scipy\\__init__.py:155: UserWarning: A NumPy version >=1.18.5 and <1.25.0 is required for this version of SciPy (detected version 1.26.4\n",
      "  warnings.warn(f\"A NumPy version >={np_minversion} and <{np_maxversion}\"\n"
     ]
    }
   ],
   "source": [
    "from tensorflow.keras.datasets import mnist"
   ]
  },
  {
   "cell_type": "code",
   "execution_count": 3,
   "id": "49311d50",
   "metadata": {},
   "outputs": [],
   "source": [
    "(X_train, y_train), (X_test, y_test)=mnist.load_data()"
   ]
  },
  {
   "cell_type": "code",
   "execution_count": 4,
   "id": "b09aeeb0",
   "metadata": {},
   "outputs": [
    {
     "data": {
      "text/plain": [
       "<matplotlib.image.AxesImage at 0x1ecd597c430>"
      ]
     },
     "execution_count": 4,
     "metadata": {},
     "output_type": "execute_result"
    },
    {
     "data": {
      "image/png": "[encoded data removed]",
      "text/plain": [
       "<Figure size 640x480 with 1 Axes>"
      ]
     },
     "metadata": {},
     "output_type": "display_data"
    }
   ],
   "source": [
    "plt.imshow(X_train[6])"
   ]
  },
  {
   "cell_type": "markdown",
   "id": "a62b16cd",
   "metadata": {},
   "source": [
    "Let's rescale the data!"
   ]
  },
  {
   "cell_type": "code",
   "execution_count": 5,
   "id": "b4ae51a3",
   "metadata": {},
   "outputs": [],
   "source": [
    "X_train=X_train/255"
   ]
  },
  {
   "cell_type": "code",
   "execution_count": 6,
   "id": "c20b0338",
   "metadata": {},
   "outputs": [],
   "source": [
    "X_test=X_test/255"
   ]
  },
  {
   "cell_type": "code",
   "execution_count": 7,
   "id": "f35f2cbe",
   "metadata": {},
   "outputs": [],
   "source": [
    "from tensorflow.keras.models import Sequential\n",
    "from tensorflow.keras.layers import Dense, Flatten, Reshape\n",
    "from tensorflow.keras.optimizers import SGD"
   ]
  },
  {
   "cell_type": "markdown",
   "id": "f7d1b007",
   "metadata": {},
   "source": [
    "Note:Here we are going to reduce the dimention of the image and then reproduce it again.\n",
    "\n",
    "Each image is 28*28 \n"
   ]
  },
  {
   "cell_type": "code",
   "execution_count": 8,
   "id": "5fe0ac9a",
   "metadata": {},
   "outputs": [
    {
     "data": {
      "text/plain": [
       "(28, 28)"
      ]
     },
     "execution_count": 8,
     "metadata": {},
     "output_type": "execute_result"
    }
   ],
   "source": [
    "X_train[0].shape"
   ]
  },
  {
   "cell_type": "code",
   "execution_count": 9,
   "id": "282060b4",
   "metadata": {},
   "outputs": [
    {
     "data": {
      "text/plain": [
       "784"
      ]
     },
     "execution_count": 9,
     "metadata": {},
     "output_type": "execute_result"
    }
   ],
   "source": [
    "28*28"
   ]
  },
  {
   "cell_type": "code",
   "execution_count": 10,
   "id": "4dd43c21",
   "metadata": {},
   "outputs": [
    {
     "data": {
      "text/plain": [
       "392.0"
      ]
     },
     "execution_count": 10,
     "metadata": {},
     "output_type": "execute_result"
    }
   ],
   "source": [
    "784/2"
   ]
  },
  {
   "cell_type": "code",
   "execution_count": 11,
   "id": "a6937e6d",
   "metadata": {},
   "outputs": [
    {
     "name": "stderr",
     "output_type": "stream",
     "text": [
      "C:\\Users\\moham\\anaconda3\\lib\\site-packages\\keras\\src\\layers\\reshaping\\flatten.py:37: UserWarning: Do not pass an `input_shape`/`input_dim` argument to a layer. When using Sequential models, prefer using an `Input(shape)` object as the first layer in the model instead.\n",
      "  super().__init__(**kwargs)\n"
     ]
    }
   ],
   "source": [
    "encoder=Sequential()\n",
    "encoder.add(Flatten(input_shape=[28,28]))\n",
    "encoder.add(Dense(400, activation='relu'))\n",
    "#we would slowly decrease the dimention\n",
    "encoder.add(Dense(200, activation='relu'))\n",
    "encoder.add(Dense(100, activation='relu'))\n",
    "encoder.add(Dense(50, activation='relu'))\n",
    "encoder.add(Dense(25, activation='relu'))"
   ]
  },
  {
   "cell_type": "markdown",
   "id": "13dfe5c7",
   "metadata": {},
   "source": [
    "Note:Using the ReLU (Rectified Linear Unit) activation function has become a standard practice in deep learning models, including the encoder part of autoencoders, for several reasons:\n",
    "\n",
    "Avoiding the Vanishing Gradient Problem: Activation functions like the sigmoid or tanh can suffer from the vanishing gradient problem, where gradients become very small, causing slow learning or even stopping the learning in deep layers. ReLU does not have this problem because its gradient is either 0 or 1.\n",
    "\n",
    "Sparsity: ReLU can output zero for any input less than zero, leading to sparse representations, which can be beneficial in reducing the computational complexity and improving the model's generalization.\n",
    "\n",
    "Efficient Computation: ReLU is computationally efficient because it involves simple thresholding at zero. This efficiency speeds up the training process.\n",
    "\n",
    "Empirical Performance: ReLU has shown excellent empirical performance in various deep learning tasks. Many practical experiments and research have demonstrated that networks using ReLU converge faster and often achieve better performance compared to those using other activation functions.\n",
    "\n",
    "Other activation functions like sigmoid, tanh, or leaky ReLU can be used, and each has its own advantages and disadvantages:\n",
    "\n",
    "Sigmoid: Good for binary classification, but suffers from vanishing gradients and outputs in the range [0, 1].\n",
    "Tanh: Outputs in the range [-1, 1], which can help center the data but still suffers from the vanishing gradient problem.\n",
    "Leaky ReLU: Similar to ReLU but allows a small gradient when the unit is not active, which can mitigate the problem of \"dying ReLUs\" where neurons can sometimes get stuck in the inactive state.\n",
    "In practice, ReLU is chosen for its simplicity, effectiveness, and faster convergence, making it a popular choice in deep learning models."
   ]
  },
  {
   "cell_type": "code",
   "execution_count": 12,
   "id": "2f0f2ff7",
   "metadata": {},
   "outputs": [
    {
     "name": "stderr",
     "output_type": "stream",
     "text": [
      "C:\\Users\\moham\\anaconda3\\lib\\site-packages\\keras\\src\\layers\\core\\dense.py:87: UserWarning: Do not pass an `input_shape`/`input_dim` argument to a layer. When using Sequential models, prefer using an `Input(shape)` object as the first layer in the model instead.\n",
      "  super().__init__(activity_regularizer=activity_regularizer, **kwargs)\n"
     ]
    }
   ],
   "source": [
    "decoder=Sequential()\n",
    "#note: decoder neurons are the reverse of the enocder until you reach the first amount!\n",
    "decoder.add(Dense(50, input_shape=[25], activation='relu'))\n",
    "decoder.add(Dense(100, activation='relu'))\n",
    "decoder.add(Dense(200, activation='relu'))\n",
    "decoder.add(Dense(400, activation='relu'))\n",
    "decoder.add(Dense(784, activation='sigmoid'))\n",
    "decoder.add(Reshape([28,28]))"
   ]
  },
  {
   "cell_type": "code",
   "execution_count": 13,
   "id": "06719d84",
   "metadata": {},
   "outputs": [],
   "source": [
    "autoencoder=Sequential([encoder,decoder])"
   ]
  },
  {
   "cell_type": "code",
   "execution_count": 14,
   "id": "99aa8d3b",
   "metadata": {},
   "outputs": [],
   "source": [
    "autoencoder.compile(loss='binary_crossentropy', optimizer=SGD(learning_rate=0.7), metrics=['accuracy'])"
   ]
  },
  {
   "cell_type": "markdown",
   "id": "269f5d33",
   "metadata": {},
   "source": [
    "In machine learning, a loss function is used to measure how well the model's predictions match the actual data. It quantifies the difference between the predicted output and the true output, guiding the optimization process to adjust the model's weights and minimize this difference.\n",
    "\n",
    "What is loss='binary_crossentropy'?\n",
    "binary_crossentropy is a specific type of loss function used primarily for binary classification tasks or cases where the output can be interpreted as probabilities.\n",
    "\n",
    "Simplified Explanation with Examples\n",
    "Example 1: Binary Classification\n",
    "Imagine you have a simple problem where you need to classify whether an email is spam (1) or not spam (0).\n",
    "\n",
    "True labels (actual data): [0, 1, 0, 1, 0]\n",
    "Predicted probabilities (from the model): [0.1, 0.9, 0.2, 0.8, 0.3]\n",
    "For each email, binary_crossentropy will calculate a loss value based on how far the predicted probability is from the actual label (0 or 1). If the true label is 1 and the predicted probability is close to 1, the loss is low. If the true label is 0 and the predicted probability is close to 0, the loss is also low.\n",
    "\n",
    "The formula for binary cross-entropy is:\n",
    "binary_crossentropy\n",
    "=\n",
    "−\n",
    "1\n",
    "𝑁\n",
    "∑\n",
    "𝑖\n",
    "=\n",
    "1\n",
    "𝑁\n",
    "[\n",
    "𝑦\n",
    "𝑖\n",
    "log\n",
    "⁡\n",
    "(\n",
    "𝑝\n",
    "𝑖\n",
    ")\n",
    "+\n",
    "(\n",
    "1\n",
    "−\n",
    "𝑦\n",
    "𝑖\n",
    ")\n",
    "log\n",
    "⁡\n",
    "(\n",
    "1\n",
    "−\n",
    "𝑝\n",
    "𝑖\n",
    ")\n",
    "]\n",
    "binary_crossentropy=− \n",
    "N\n",
    "1\n",
    "​\n",
    " ∑ \n",
    "i=1\n",
    "N\n",
    "​\n",
    " [y \n",
    "i\n",
    "​\n",
    " log(p \n",
    "i\n",
    "​\n",
    " )+(1−y \n",
    "i\n",
    "​\n",
    " )log(1−p \n",
    "i\n",
    "​\n",
    " )]\n",
    "\n",
    "Where:\n",
    "\n",
    "𝑦\n",
    "𝑖\n",
    "y \n",
    "i\n",
    "​\n",
    "  is the true label (0 or 1)\n",
    "𝑝\n",
    "𝑖\n",
    "p \n",
    "i\n",
    "​\n",
    "  is the predicted probability\n",
    "𝑁\n",
    "N is the number of samples\n",
    "Example 2: Autoencoder for Image Reconstruction\n",
    "Let's consider an autoencoder like in your code, which is used for reconstructing images. The input images are in grayscale (values between 0 and 1).\n",
    "\n",
    "Input image: A 28x28 grayscale image.\n",
    "Output image: The reconstructed 28x28 grayscale image from the autoencoder.\n",
    "The autoencoder's goal is to minimize the difference between the input and the reconstructed image. Here, each pixel can be treated as a binary value (either closer to 0 or 1), and we can use binary_crossentropy to measure how well the model reconstructs the image.\n",
    "\n",
    "Why Use binary_crossentropy?\n",
    "Probabilistic Interpretation: When your output values are probabilities (like in classification tasks or autoencoders outputting normalized pixel values), binary_crossentropy is appropriate because it directly measures the difference between predicted probabilities and the actual labels.\n",
    "\n",
    "Effective for Binary Outputs: If your task involves binary outcomes (like pixel values in an image being on or off), binary_crossentropy is suitable.\n",
    "\n",
    "Good Performance: In practice, binary_crossentropy often leads to better performance and faster convergence for models dealing with binary or probabilistic outputs.\n",
    "\n",
    "Why Not Other Loss Functions?\n",
    "Mean Squared Error (MSE):\n",
    "\n",
    "Example: Let's say your true label is 0 and the predicted probability is 0.01.\n",
    "MSE\n",
    "=\n",
    "(\n",
    "0\n",
    "−\n",
    "0.01\n",
    ")\n",
    "2\n",
    "=\n",
    "0.0001\n",
    "MSE=(0−0.01) \n",
    "2\n",
    " =0.0001\n",
    "Limitation: While this value is small, MSE treats all errors equally and doesn't account for the probabilistic nature of the problem. It might not penalize large errors appropriately in probabilistic contexts.\n",
    "Categorical Crossentropy:\n",
    "\n",
    "Example: Used for multi-class classification tasks where there are more than two classes.\n",
    "Limitation: For binary or probability-based outputs, it would be unnecessarily complex and not optimized for binary outcomes."
   ]
  },
  {
   "cell_type": "code",
   "execution_count": 15,
   "id": "21b4a563",
   "metadata": {},
   "outputs": [
    {
     "name": "stdout",
     "output_type": "stream",
     "text": [
      "Epoch 1/9\n",
      "\u001b[1m1875/1875\u001b[0m \u001b[32m━━━━━━━━━━━━━━━━━━━━\u001b[0m\u001b[37m\u001b[0m \u001b[1m13s\u001b[0m 7ms/step - accuracy: 0.0651 - loss: 0.3225 - val_accuracy: 0.1053 - val_loss: 0.2316\n",
      "Epoch 2/9\n",
      "\u001b[1m1875/1875\u001b[0m \u001b[32m━━━━━━━━━━━━━━━━━━━━\u001b[0m\u001b[37m\u001b[0m \u001b[1m14s\u001b[0m 7ms/step - accuracy: 0.1126 - loss: 0.2208 - val_accuracy: 0.1517 - val_loss: 0.1891\n",
      "Epoch 3/9\n",
      "\u001b[1m1875/1875\u001b[0m \u001b[32m━━━━━━━━━━━━━━━━━━━━\u001b[0m\u001b[37m\u001b[0m \u001b[1m14s\u001b[0m 7ms/step - accuracy: 0.1615 - loss: 0.1810 - val_accuracy: 0.1800 - val_loss: 0.1649\n",
      "Epoch 4/9\n",
      "\u001b[1m1875/1875\u001b[0m \u001b[32m━━━━━━━━━━━━━━━━━━━━\u001b[0m\u001b[37m\u001b[0m \u001b[1m14s\u001b[0m 7ms/step - accuracy: 0.1845 - loss: 0.1639 - val_accuracy: 0.1945 - val_loss: 0.1529\n",
      "Epoch 5/9\n",
      "\u001b[1m1875/1875\u001b[0m \u001b[32m━━━━━━━━━━━━━━━━━━━━\u001b[0m\u001b[37m\u001b[0m \u001b[1m14s\u001b[0m 7ms/step - accuracy: 0.1997 - loss: 0.1534 - val_accuracy: 0.2042 - val_loss: 0.1475\n",
      "Epoch 6/9\n",
      "\u001b[1m1875/1875\u001b[0m \u001b[32m━━━━━━━━━━━━━━━━━━━━\u001b[0m\u001b[37m\u001b[0m \u001b[1m13s\u001b[0m 7ms/step - accuracy: 0.2104 - loss: 0.1465 - val_accuracy: 0.2152 - val_loss: 0.1403\n",
      "Epoch 7/9\n",
      "\u001b[1m1875/1875\u001b[0m \u001b[32m━━━━━━━━━━━━━━━━━━━━\u001b[0m\u001b[37m\u001b[0m \u001b[1m14s\u001b[0m 7ms/step - accuracy: 0.2207 - loss: 0.1396 - val_accuracy: 0.2261 - val_loss: 0.1354\n",
      "Epoch 8/9\n",
      "\u001b[1m1875/1875\u001b[0m \u001b[32m━━━━━━━━━━━━━━━━━━━━\u001b[0m\u001b[37m\u001b[0m \u001b[1m13s\u001b[0m 7ms/step - accuracy: 0.2256 - loss: 0.1355 - val_accuracy: 0.2285 - val_loss: 0.1304\n",
      "Epoch 9/9\n",
      "\u001b[1m1875/1875\u001b[0m \u001b[32m━━━━━━━━━━━━━━━━━━━━\u001b[0m\u001b[37m\u001b[0m \u001b[1m13s\u001b[0m 7ms/step - accuracy: 0.2303 - loss: 0.1316 - val_accuracy: 0.2325 - val_loss: 0.1270\n"
     ]
    },
    {
     "data": {
      "text/plain": [
       "<keras.src.callbacks.history.History at 0x1ecd3421be0>"
      ]
     },
     "execution_count": 15,
     "metadata": {},
     "output_type": "execute_result"
    }
   ],
   "source": [
    "autoencoder.fit(X_train,X_train, epochs=9, validation_data=[X_test, X_test])\n",
    "#note: for instance inout is X_train[0] and the output is also X_train [0] thus the model can be trained!"
   ]
  },
  {
   "cell_type": "code",
   "execution_count": 16,
   "id": "16141065",
   "metadata": {},
   "outputs": [
    {
     "name": "stdout",
     "output_type": "stream",
     "text": [
      "\u001b[1m1/1\u001b[0m \u001b[32m━━━━━━━━━━━━━━━━━━━━\u001b[0m\u001b[37m\u001b[0m \u001b[1m0s\u001b[0m 242ms/step\n"
     ]
    }
   ],
   "source": [
    "passed_images=autoencoder.predict(X_test[:10])\n"
   ]
  },
  {
   "cell_type": "code",
   "execution_count": 17,
   "id": "aa819c46",
   "metadata": {},
   "outputs": [
    {
     "name": "stdout",
     "output_type": "stream",
     "text": [
      "original_image\n"
     ]
    },
    {
     "data": {
      "image/png": "[encoded data removed]",
      "text/plain": [
       "<Figure size 640x480 with 1 Axes>"
      ]
     },
     "metadata": {},
     "output_type": "display_data"
    },
    {
     "name": "stdout",
     "output_type": "stream",
     "text": [
      "Attempted_reconstruction_of_the_Image\n"
     ]
    },
    {
     "data": {
      "text/plain": [
       "<matplotlib.image.AxesImage at 0x1ec83742c40>"
      ]
     },
     "execution_count": 17,
     "metadata": {},
     "output_type": "execute_result"
    },
    {
     "data": {
      "image/png": "[encoded data removed]",
      "text/plain": [
       "<Figure size 640x480 with 1 Axes>"
      ]
     },
     "metadata": {},
     "output_type": "display_data"
    }
   ],
   "source": [
    "n=0\n",
    "print(\"original_image\")\n",
    "plt.imshow(X_test[n])\n",
    "plt.show()\n",
    "print(\"Attempted_reconstruction_of_the_Image\")\n",
    "plt.imshow(passed_images[n])"
   ]
  },
  {
   "cell_type": "markdown",
   "id": "f0fc63e8",
   "metadata": {},
   "source": [
    "**Noise Remover**"
   ]
  },
  {
   "cell_type": "markdown",
   "id": "c1e9e02a",
   "metadata": {},
   "source": [
    "In this part we want to make a model with the autoencoders to remove noises!"
   ]
  },
  {
   "cell_type": "code",
   "execution_count": 18,
   "id": "8a3bbec5",
   "metadata": {},
   "outputs": [],
   "source": [
    "from tensorflow.keras.layers import GaussianNoise"
   ]
  },
  {
   "cell_type": "code",
   "execution_count": 19,
   "id": "496bd6cf",
   "metadata": {},
   "outputs": [],
   "source": [
    "sample=GaussianNoise(0.2)\n",
    "#the larger value the more noise added"
   ]
  },
  {
   "cell_type": "code",
   "execution_count": 21,
   "id": "7055cf62",
   "metadata": {},
   "outputs": [],
   "source": [
    "noisey=sample(X_test[:10],training=True)\n",
    "#training=True means adding noise"
   ]
  },
  {
   "cell_type": "code",
   "execution_count": 25,
   "id": "fe51c3f4",
   "metadata": {},
   "outputs": [
    {
     "name": "stdout",
     "output_type": "stream",
     "text": [
      "original\n"
     ]
    },
    {
     "data": {
      "image/png": "[encoded data removed]",
      "text/plain": [
       "<Figure size 640x480 with 1 Axes>"
      ]
     },
     "metadata": {},
     "output_type": "display_data"
    },
    {
     "name": "stdout",
     "output_type": "stream",
     "text": [
      "noisy_image\n"
     ]
    },
    {
     "data": {
      "text/plain": [
       "<matplotlib.image.AxesImage at 0x1ec84ad5b80>"
      ]
     },
     "execution_count": 25,
     "metadata": {},
     "output_type": "execute_result"
    },
    {
     "data": {
      "image/png": "[encoded data removed]",
      "text/plain": [
       "<Figure size 640x480 with 1 Axes>"
      ]
     },
     "metadata": {},
     "output_type": "display_data"
    }
   ],
   "source": [
    "n=0\n",
    "print(\"original\")\n",
    "plt.imshow(X_test[n])\n",
    "plt.show()\n",
    "print(\"noisy_image\")\n",
    "plt.imshow(noisey[n])"
   ]
  },
  {
   "cell_type": "markdown",
   "id": "348e4295",
   "metadata": {},
   "source": [
    "Let's use the same encoder and decoder we used before!"
   ]
  },
  {
   "cell_type": "code",
   "execution_count": 26,
   "id": "71d62377",
   "metadata": {},
   "outputs": [],
   "source": [
    "encoder=Sequential()\n",
    "encoder.add(Flatten(input_shape=[28,28]))\n",
    "encoder.add(Dense(400, activation='relu'))\n",
    "#we would slowly decrease the dimention\n",
    "encoder.add(Dense(200, activation='relu'))\n",
    "encoder.add(Dense(100, activation='relu'))\n",
    "encoder.add(Dense(50, activation='relu'))\n",
    "encoder.add(Dense(25, activation='relu'))"
   ]
  },
  {
   "cell_type": "code",
   "execution_count": 27,
   "id": "ada2f246",
   "metadata": {},
   "outputs": [],
   "source": [
    "decoder=Sequential()\n",
    "#note: decoder neurons are the reverse of the enocder until you reach the first amount!\n",
    "decoder.add(Dense(50, input_shape=[25], activation='relu'))\n",
    "decoder.add(Dense(100, activation='relu'))\n",
    "decoder.add(Dense(200, activation='relu'))\n",
    "decoder.add(Dense(400, activation='relu'))\n",
    "decoder.add(Dense(784, activation='sigmoid'))\n",
    "decoder.add(Reshape([28,28]))"
   ]
  },
  {
   "cell_type": "code",
   "execution_count": 28,
   "id": "d03b85a6",
   "metadata": {},
   "outputs": [],
   "source": [
    "noise_remover=Sequential([encoder,decoder])"
   ]
  },
  {
   "cell_type": "code",
   "execution_count": 29,
   "id": "24293a57",
   "metadata": {},
   "outputs": [],
   "source": [
    "noise_remover.compile(loss='binary_crossentropy', optimizer='adam', metrics=['accuracy'])"
   ]
  },
  {
   "cell_type": "markdown",
   "id": "48231e98",
   "metadata": {},
   "source": [
    "1. What is Loss?\n",
    "Loss is a way to measure how well or how poorly your machine learning model is doing. It's like the score in a game where a lower score means better performance.\n",
    "\n",
    "Example:\n",
    "Imagine you are throwing darts at a dartboard. The bullseye is your target, and you want to hit it as closely as possible. The distance of your dart from the bullseye represents the loss. The closer your dart is to the bullseye (lower loss), the better you are at the game.\n",
    "\n",
    "2. Why Did We Choose binary_crossentropy for the Loss?\n",
    "Binary Crossentropy is a specific type of loss function used for binary classification problems, where there are only two possible outcomes (e.g., yes/no, cat/dog).\n",
    "\n",
    "Example:\n",
    "Let's say you are building a model to classify emails as either spam or not spam. Since there are only two categories (spam or not spam), you use binary_crossentropy to measure how well your model's predictions match the actual labels (spam or not spam). It helps the model learn by penalizing incorrect predictions more heavily.\n",
    "\n",
    "3. What is an Optimizer?\n",
    "An optimizer is an algorithm or method used to update the weights of your model in order to minimize the loss. It's like a coach giving you advice on how to adjust your throws to get closer to the bullseye.\n",
    "\n",
    "Example:\n",
    "Imagine you have a coach who watches you throw darts. After each throw, the coach tells you to move your hand slightly to the left or right to improve your aim. The optimizer does something similar by adjusting the model's weights to reduce the loss.\n",
    "\n",
    "4. Why Did We Select adam for the Optimizer?\n",
    "Adam is a popular and efficient optimizer that combines the best properties of other optimizers like AdaGrad and RMSProp. It adjusts the learning rate for each parameter individually.\n",
    "\n",
    "Example:\n",
    "Think of Adam as a really smart coach who not only tells you how to adjust your aim but also keeps track of your previous throws and learns the best way to improve your aim faster. This makes the learning process quicker and more effective.\n",
    "\n",
    "5. What is a Metric?\n",
    "A metric is a way to evaluate the performance of your model. Unlike the loss, which the model tries to minimize during training, metrics are used to give you additional information about the model's performance.\n",
    "\n",
    "Example:\n",
    "In the dart game, besides the distance from the bullseye (loss), you might also keep track of how many times you hit the target (accuracy). This gives you more information about your overall performance.\n",
    "\n",
    "6. Why Did We Select accuracy for the Metric?\n",
    "Accuracy measures the percentage of correct predictions made by the model out of all predictions. It is a straightforward and intuitive way to evaluate the performance of a classification model.\n",
    "\n",
    "Example:\n",
    "If you throw 10 darts and 8 of them hit the target, your accuracy is 80%. Similarly, if your model correctly classifies 80 out of 100 emails as spam or not spam, its accuracy is 80%. Accuracy is a useful metric when the classes are balanced (roughly equal number of examples in each class)."
   ]
  },
  {
   "cell_type": "code",
   "execution_count": 30,
   "id": "9f20903d",
   "metadata": {},
   "outputs": [
    {
     "name": "stdout",
     "output_type": "stream",
     "text": [
      "Epoch 1/8\n",
      "\u001b[1m1875/1875\u001b[0m \u001b[32m━━━━━━━━━━━━━━━━━━━━\u001b[0m\u001b[37m\u001b[0m \u001b[1m20s\u001b[0m 8ms/step - accuracy: 0.1414 - loss: 0.2142\n",
      "Epoch 2/8\n",
      "\u001b[1m1875/1875\u001b[0m \u001b[32m━━━━━━━━━━━━━━━━━━━━\u001b[0m\u001b[37m\u001b[0m \u001b[1m15s\u001b[0m 8ms/step - accuracy: 0.2333 - loss: 0.1279\n",
      "Epoch 3/8\n",
      "\u001b[1m1875/1875\u001b[0m \u001b[32m━━━━━━━━━━━━━━━━━━━━\u001b[0m\u001b[37m\u001b[0m \u001b[1m15s\u001b[0m 8ms/step - accuracy: 0.2526 - loss: 0.1161\n",
      "Epoch 4/8\n",
      "\u001b[1m1875/1875\u001b[0m \u001b[32m━━━━━━━━━━━━━━━━━━━━\u001b[0m\u001b[37m\u001b[0m \u001b[1m16s\u001b[0m 8ms/step - accuracy: 0.2661 - loss: 0.1088\n",
      "Epoch 5/8\n",
      "\u001b[1m1875/1875\u001b[0m \u001b[32m━━━━━━━━━━━━━━━━━━━━\u001b[0m\u001b[37m\u001b[0m \u001b[1m16s\u001b[0m 8ms/step - accuracy: 0.2724 - loss: 0.1051\n",
      "Epoch 6/8\n",
      "\u001b[1m1875/1875\u001b[0m \u001b[32m━━━━━━━━━━━━━━━━━━━━\u001b[0m\u001b[37m\u001b[0m \u001b[1m16s\u001b[0m 8ms/step - accuracy: 0.2767 - loss: 0.1021\n",
      "Epoch 7/8\n",
      "\u001b[1m1875/1875\u001b[0m \u001b[32m━━━━━━━━━━━━━━━━━━━━\u001b[0m\u001b[37m\u001b[0m \u001b[1m16s\u001b[0m 8ms/step - accuracy: 0.2805 - loss: 0.0996\n",
      "Epoch 8/8\n",
      "\u001b[1m1875/1875\u001b[0m \u001b[32m━━━━━━━━━━━━━━━━━━━━\u001b[0m\u001b[37m\u001b[0m \u001b[1m16s\u001b[0m 8ms/step - accuracy: 0.2854 - loss: 0.0979\n"
     ]
    },
    {
     "data": {
      "text/plain": [
       "<keras.src.callbacks.history.History at 0x1ec84c30850>"
      ]
     },
     "execution_count": 30,
     "metadata": {},
     "output_type": "execute_result"
    }
   ],
   "source": [
    "noise_remover.fit(X_train, X_train, epochs=8)"
   ]
  },
  {
   "cell_type": "code",
   "execution_count": 31,
   "id": "924b48bb",
   "metadata": {},
   "outputs": [],
   "source": [
    "ten_noisy_images=sample(X_test[:10], training=True)"
   ]
  },
  {
   "cell_type": "code",
   "execution_count": 32,
   "id": "a768dbef",
   "metadata": {},
   "outputs": [],
   "source": [
    "denoised=noise_remover(ten_noisy_images)"
   ]
  },
  {
   "cell_type": "code",
   "execution_count": 34,
   "id": "68690019",
   "metadata": {},
   "outputs": [
    {
     "name": "stdout",
     "output_type": "stream",
     "text": [
      "original figure\n"
     ]
    },
    {
     "data": {
      "image/png": "[encoded data removed]",
      "text/plain": [
       "<Figure size 640x480 with 1 Axes>"
      ]
     },
     "metadata": {},
     "output_type": "display_data"
    },
    {
     "name": "stdout",
     "output_type": "stream",
     "text": [
      "noisy figure\n"
     ]
    },
    {
     "data": {
      "image/png": "[encoded data removed]",
      "text/plain": [
       "<Figure size 640x480 with 1 Axes>"
      ]
     },
     "metadata": {},
     "output_type": "display_data"
    },
    {
     "name": "stdout",
     "output_type": "stream",
     "text": [
      "noise_removed_figure\n"
     ]
    },
    {
     "data": {
      "text/plain": [
       "<matplotlib.image.AxesImage at 0x1ec89ddbac0>"
      ]
     },
     "execution_count": 34,
     "metadata": {},
     "output_type": "execute_result"
    },
    {
     "data": {
      "image/png": "[encoded data removed]",
      "text/plain": [
       "<Figure size 640x480 with 1 Axes>"
      ]
     },
     "metadata": {},
     "output_type": "display_data"
    }
   ],
   "source": [
    "n=0\n",
    "print(\"original figure\")\n",
    "plt.imshow(X_test[n])\n",
    "plt.show()\n",
    "print(\"noisy figure\")\n",
    "plt.imshow(ten_noisy_images[n])\n",
    "plt.show()\n",
    "print(\"noise_removed_figure\")\n",
    "plt.imshow(denoised[n])"
   ]
  },
  {
   "cell_type": "code",
   "execution_count": null,
   "id": "c02e17cd",
   "metadata": {},
   "outputs": [],
   "source": []
  }
 ],
 "metadata": {
  "kernelspec": {
   "display_name": "Python 3 (ipykernel)",
   "language": "python",
   "name": "python3"
  },
  "language_info": {
   "codemirror_mode": {
    "name": "ipython",
    "version": 3
   },
   "file_extension": ".py",
   "mimetype": "text/x-python",
   "name": "python",
   "nbconvert_exporter": "python",
   "pygments_lexer": "ipython3",
   "version": "3.9.13"
  }
 },
 "nbformat": 4,
 "nbformat_minor": 5
}
